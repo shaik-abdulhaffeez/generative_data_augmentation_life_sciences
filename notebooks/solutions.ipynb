{
 "cells": [
  {
   "cell_type": "code",
   "execution_count": 1,
   "metadata": {},
   "outputs": [],
   "source": [
    "import numpy as np\n",
    "import pandas as pd\n",
    "from sklearn.datasets import load_breast_cancer\n",
    "from sklearn.model_selection import train_test_split\n",
    "from sklearn.preprocessing import StandardScaler\n",
    "from IPython.display import display"
   ]
  },
  {
   "cell_type": "markdown",
   "metadata": {},
   "source": [
    "we need to split the input and output into numpy arrays, in order to apply the classifiers in scikit learn."
   ]
  },
  {
   "cell_type": "code",
   "execution_count": 21,
   "metadata": {},
   "outputs": [
    {
     "name": "stdout",
     "output_type": "stream",
     "text": [
      "Number of records: 569\n"
     ]
    }
   ],
   "source": [
    "# Load the breast_cancer dataset\n",
    "data = load_breast_cancer()\n",
    "# Print number of records\n",
    "print(f'Number of records: {len(data.data)}')\n",
    "# display(data)\n",
    "X = data.data\n",
    "# display(X)\n",
    "y = data.target"
   ]
  },
  {
   "cell_type": "code",
   "execution_count": 24,
   "metadata": {},
   "outputs": [
    {
     "name": "stdout",
     "output_type": "stream",
     "text": [
      "Number of records X_train : 455\n",
      "Number of records X_test: 114\n",
      "Number of records y_train: 455\n",
      "Number of records: 114\n"
     ]
    }
   ],
   "source": [
    "# Split the dataset into training and test sets\n",
    "X_train, X_test, y_train, y_test = train_test_split(X, y, test_size=0.2, random_state=42)\n",
    "print(f'Number of records X_train : {len(X_train)}')\n",
    "print(f'Number of records X_test: {len(X_test)}')\n",
    "print(f'Number of records y_train: {len(y_train)}')\n",
    "print(f'Number of records: {len(y_test)}')\n",
    "# Standardize the features\n",
    "scaler = StandardScaler()\n",
    "X_train = scaler.fit_transform(X_train)\n",
    "X_test = scaler.transform(X_test)\n"
   ]
  },
  {
   "cell_type": "code",
   "execution_count": 25,
   "metadata": {},
   "outputs": [
    {
     "name": "stdout",
     "output_type": "stream",
     "text": [
      "Number of records X_train_tensor : 455\n",
      "Number of records y_train_tensor: 455\n",
      "Number of records X_test_tensor: 114\n",
      "Number of records y_test_tensor: 114\n"
     ]
    }
   ],
   "source": [
    "# Convert to PyTorch tensors\n",
    "import torch\n",
    "X_train_tensor = torch.tensor(X_train, dtype=torch.float32)\n",
    "y_train_tensor = torch.tensor(y_train, dtype=torch.float32).view(-1, 1)\n",
    "X_test_tensor = torch.tensor(X_test, dtype=torch.float32)\n",
    "y_test_tensor = torch.tensor(y_test, dtype=torch.float32).view(-1, 1)\n",
    "\n",
    "print(f'Number of records X_train_tensor : {len(X_train_tensor)}')\n",
    "print(f'Number of records y_train_tensor: {len(y_train_tensor)}')\n",
    "print(f'Number of records X_test_tensor: {len(X_test_tensor)}')\n",
    "print(f'Number of records y_test_tensor: {len(y_test_tensor)}')"
   ]
  },
  {
   "cell_type": "code",
   "execution_count": 5,
   "metadata": {},
   "outputs": [],
   "source": [
    "import torch.nn as nn\n",
    "import torch.optim as optim\n",
    "\n",
    "# Define the generator network\n",
    "class Generator(nn.Module):\n",
    "    def __init__(self, input_dim, output_dim):\n",
    "        super(Generator, self).__init__()\n",
    "        self.main = nn.Sequential(\n",
    "            nn.Linear(input_dim, 128),\n",
    "            nn.ReLU(True),\n",
    "            nn.Linear(128, 256),\n",
    "            nn.ReLU(True),\n",
    "            nn.Linear(256, 512),\n",
    "            nn.ReLU(True),\n",
    "            nn.Linear(512, output_dim),\n",
    "            nn.Tanh()\n",
    "        )\n",
    "\n",
    "    def forward(self, x):\n",
    "        return self.main(x)\n",
    "\n",
    "# Define the discriminator network\n",
    "class Discriminator(nn.Module):\n",
    "    def __init__(self, input_dim):\n",
    "        super(Discriminator, self).__init__()\n",
    "        self.main = nn.Sequential(\n",
    "            nn.Linear(input_dim, 512),\n",
    "            nn.LeakyReLU(0.2, inplace=True),\n",
    "            nn.Linear(512, 256),\n",
    "            nn.LeakyReLU(0.2, inplace=True),\n",
    "            nn.Linear(256, 128),\n",
    "            nn.LeakyReLU(0.2, inplace=True),\n",
    "            nn.Linear(128, 1),\n",
    "            nn.Sigmoid()\n",
    "        )\n",
    "\n",
    "    def forward(self, x):\n",
    "        return self.main(x)\n",
    "\n"
   ]
  },
  {
   "cell_type": "code",
   "execution_count": 29,
   "metadata": {},
   "outputs": [
    {
     "name": "stdout",
     "output_type": "stream",
     "text": [
      "Generated Data:\n",
      "1\n",
      "\n",
      "Discriminator Output:\n",
      "1\n"
     ]
    }
   ],
   "source": [
    "# Initialize the networks\n",
    "input_dim = X_train.shape[1]\n",
    "generator = Generator(input_dim=100, output_dim=input_dim)\n",
    "discriminator = Discriminator(input_dim=input_dim)\n",
    "# Generate random noise\n",
    "noise = torch.randn(1, 100)  # Batch size of 1, noise dimension of 100\n",
    "\n",
    "# Generate data using the generator\n",
    "generated_data = generator(noise)\n",
    "\n",
    "# Pass the generated data through the discriminator\n",
    "discriminator_output = discriminator(generated_data)\n",
    "\n",
    "# Print the generated data and the discriminator's output\n",
    "print(\"Generated Data:\")\n",
    "print(len(generated_data))\n",
    "\n",
    "print(\"\\nDiscriminator Output:\")\n",
    "print(len(discriminator_output))\n",
    "# Loss function and optimizers\n",
    "criterion = nn.BCELoss()\n",
    "optimizer_g = optim.Adam(generator.parameters(), lr=0.0002)\n",
    "optimizer_d = optim.Adam(discriminator.parameters(), lr=0.0002)"
   ]
  },
  {
   "cell_type": "code",
   "execution_count": 7,
   "metadata": {},
   "outputs": [
    {
     "name": "stdout",
     "output_type": "stream",
     "text": [
      "Epoch [1/100], d_loss: 1.2788, g_loss: 0.6496\n",
      "Epoch [2/100], d_loss: 0.7212, g_loss: 1.0268\n",
      "Epoch [3/100], d_loss: 0.6144, g_loss: 2.3056\n",
      "Epoch [4/100], d_loss: 0.4650, g_loss: 2.9835\n",
      "Epoch [5/100], d_loss: 0.5818, g_loss: 3.4171\n",
      "Epoch [6/100], d_loss: 0.0618, g_loss: 3.6727\n",
      "Epoch [7/100], d_loss: 0.0289, g_loss: 4.5302\n",
      "Epoch [8/100], d_loss: 0.2477, g_loss: 3.3322\n",
      "Epoch [9/100], d_loss: 0.0740, g_loss: 4.5771\n",
      "Epoch [10/100], d_loss: 0.0077, g_loss: 5.1036\n",
      "Epoch [11/100], d_loss: 0.0310, g_loss: 5.7531\n",
      "Epoch [12/100], d_loss: 0.1711, g_loss: 3.7552\n",
      "Epoch [13/100], d_loss: 0.0569, g_loss: 4.0618\n",
      "Epoch [14/100], d_loss: 0.2798, g_loss: 5.2390\n",
      "Epoch [15/100], d_loss: 0.0948, g_loss: 4.1970\n",
      "Epoch [16/100], d_loss: 0.0102, g_loss: 5.4206\n",
      "Epoch [17/100], d_loss: 0.0041, g_loss: 6.3764\n",
      "Epoch [18/100], d_loss: 0.0419, g_loss: 4.9792\n",
      "Epoch [19/100], d_loss: 0.0774, g_loss: 4.1437\n",
      "Epoch [20/100], d_loss: 0.1650, g_loss: 3.7880\n",
      "Epoch [21/100], d_loss: 0.0157, g_loss: 4.7949\n",
      "Epoch [22/100], d_loss: 1.3517, g_loss: 5.6067\n",
      "Epoch [23/100], d_loss: 0.0693, g_loss: 4.2869\n",
      "Epoch [24/100], d_loss: 0.6720, g_loss: 3.6884\n",
      "Epoch [25/100], d_loss: 0.0843, g_loss: 4.1367\n",
      "Epoch [26/100], d_loss: 0.0212, g_loss: 4.7092\n",
      "Epoch [27/100], d_loss: 0.5961, g_loss: 3.9642\n",
      "Epoch [28/100], d_loss: 0.0920, g_loss: 3.5568\n",
      "Epoch [29/100], d_loss: 1.6880, g_loss: 4.3986\n",
      "Epoch [30/100], d_loss: 0.1631, g_loss: 3.7221\n",
      "Epoch [31/100], d_loss: 0.4132, g_loss: 3.3455\n",
      "Epoch [32/100], d_loss: 0.1877, g_loss: 3.9425\n",
      "Epoch [33/100], d_loss: 0.0486, g_loss: 3.4796\n",
      "Epoch [34/100], d_loss: 0.0470, g_loss: 3.6940\n",
      "Epoch [35/100], d_loss: 0.3670, g_loss: 4.0050\n",
      "Epoch [36/100], d_loss: 0.0060, g_loss: 5.6819\n",
      "Epoch [37/100], d_loss: 0.0454, g_loss: 3.4117\n",
      "Epoch [38/100], d_loss: 0.0190, g_loss: 4.8377\n",
      "Epoch [39/100], d_loss: 0.0679, g_loss: 3.0282\n",
      "Epoch [40/100], d_loss: 0.1139, g_loss: 3.4706\n",
      "Epoch [41/100], d_loss: 0.0332, g_loss: 3.8947\n",
      "Epoch [42/100], d_loss: 0.0660, g_loss: 4.7720\n",
      "Epoch [43/100], d_loss: 0.0693, g_loss: 3.8423\n",
      "Epoch [44/100], d_loss: 0.1245, g_loss: 2.6310\n",
      "Epoch [45/100], d_loss: 2.2065, g_loss: 2.8916\n",
      "Epoch [46/100], d_loss: 0.1229, g_loss: 2.9610\n",
      "Epoch [47/100], d_loss: 0.0423, g_loss: 3.5377\n",
      "Epoch [48/100], d_loss: 0.0808, g_loss: 4.2264\n",
      "Epoch [49/100], d_loss: 0.0347, g_loss: 3.8555\n",
      "Epoch [50/100], d_loss: 0.0498, g_loss: 4.0054\n",
      "Epoch [51/100], d_loss: 0.0338, g_loss: 4.1548\n",
      "Epoch [52/100], d_loss: 0.0705, g_loss: 2.7537\n",
      "Epoch [53/100], d_loss: 0.0241, g_loss: 5.1703\n",
      "Epoch [54/100], d_loss: 0.0720, g_loss: 3.7204\n",
      "Epoch [55/100], d_loss: 0.0287, g_loss: 3.7612\n",
      "Epoch [56/100], d_loss: 0.0315, g_loss: 4.2807\n",
      "Epoch [57/100], d_loss: 0.3992, g_loss: 4.2595\n",
      "Epoch [58/100], d_loss: 0.9291, g_loss: 3.3658\n",
      "Epoch [59/100], d_loss: 0.0911, g_loss: 2.6616\n",
      "Epoch [60/100], d_loss: 0.2534, g_loss: 5.3131\n",
      "Epoch [61/100], d_loss: 0.1283, g_loss: 3.1069\n",
      "Epoch [62/100], d_loss: 0.1817, g_loss: 4.3096\n",
      "Epoch [63/100], d_loss: 0.0809, g_loss: 3.0092\n",
      "Epoch [64/100], d_loss: 0.1291, g_loss: 3.5287\n",
      "Epoch [65/100], d_loss: 0.0324, g_loss: 3.9970\n",
      "Epoch [66/100], d_loss: 0.6638, g_loss: 3.2357\n",
      "Epoch [67/100], d_loss: 1.4931, g_loss: 4.5801\n",
      "Epoch [68/100], d_loss: 0.1181, g_loss: 2.8980\n",
      "Epoch [69/100], d_loss: 0.0730, g_loss: 3.6793\n",
      "Epoch [70/100], d_loss: 0.0627, g_loss: 2.5933\n",
      "Epoch [71/100], d_loss: 0.5042, g_loss: 2.7040\n",
      "Epoch [72/100], d_loss: 0.2071, g_loss: 2.9509\n",
      "Epoch [73/100], d_loss: 0.0609, g_loss: 3.0492\n",
      "Epoch [74/100], d_loss: 0.0367, g_loss: 3.6441\n",
      "Epoch [75/100], d_loss: 0.9344, g_loss: 2.4760\n",
      "Epoch [76/100], d_loss: 0.0392, g_loss: 3.2541\n",
      "Epoch [77/100], d_loss: 0.0936, g_loss: 2.6902\n",
      "Epoch [78/100], d_loss: 0.2304, g_loss: 2.1693\n",
      "Epoch [79/100], d_loss: 0.1168, g_loss: 3.1804\n",
      "Epoch [80/100], d_loss: 0.0741, g_loss: 3.6082\n",
      "Epoch [81/100], d_loss: 0.3145, g_loss: 3.8857\n",
      "Epoch [82/100], d_loss: 0.0310, g_loss: 5.0167\n",
      "Epoch [83/100], d_loss: 0.0098, g_loss: 5.1100\n",
      "Epoch [84/100], d_loss: 0.0580, g_loss: 3.5072\n",
      "Epoch [85/100], d_loss: 0.2136, g_loss: 4.2423\n",
      "Epoch [86/100], d_loss: 0.0446, g_loss: 3.7169\n",
      "Epoch [87/100], d_loss: 0.1397, g_loss: 2.8679\n",
      "Epoch [88/100], d_loss: 0.0367, g_loss: 4.0719\n",
      "Epoch [89/100], d_loss: 0.1246, g_loss: 3.0031\n",
      "Epoch [90/100], d_loss: 0.0235, g_loss: 4.6223\n",
      "Epoch [91/100], d_loss: 0.0182, g_loss: 4.3548\n",
      "Epoch [92/100], d_loss: 0.1986, g_loss: 2.7626\n",
      "Epoch [93/100], d_loss: 1.0345, g_loss: 2.7159\n",
      "Epoch [94/100], d_loss: 0.8880, g_loss: 2.7273\n",
      "Epoch [95/100], d_loss: 0.1537, g_loss: 2.9738\n",
      "Epoch [96/100], d_loss: 0.0990, g_loss: 2.9699\n",
      "Epoch [97/100], d_loss: 0.0542, g_loss: 3.1179\n",
      "Epoch [98/100], d_loss: 0.0566, g_loss: 3.6169\n",
      "Epoch [99/100], d_loss: 0.2201, g_loss: 2.2143\n",
      "Epoch [100/100], d_loss: 0.1387, g_loss: 2.2886\n"
     ]
    }
   ],
   "source": [
    "# Training loop\n",
    "num_epochs = 100\n",
    "batch_size = 64\n",
    "fixed_noise = torch.randn(batch_size, 100)\n",
    "\n",
    "for epoch in range(num_epochs):\n",
    "    for i in range(0, X_train_tensor.size(0), batch_size):\n",
    "        real_data = X_train_tensor[i:i+batch_size]\n",
    "        batch_size = real_data.size(0)\n",
    "        \n",
    "        # Train discriminator\n",
    "        real_labels = torch.ones(batch_size, 1)\n",
    "        fake_labels = torch.zeros(batch_size, 1)\n",
    "        \n",
    "        outputs = discriminator(real_data)\n",
    "        d_loss_real = criterion(outputs, real_labels)\n",
    "        \n",
    "        noise = torch.randn(batch_size, 100)\n",
    "        fake_data = generator(noise)\n",
    "        outputs = discriminator(fake_data.detach())\n",
    "        d_loss_fake = criterion(outputs, fake_labels)\n",
    "        \n",
    "        d_loss = d_loss_real + d_loss_fake\n",
    "        optimizer_d.zero_grad()\n",
    "        d_loss.backward()\n",
    "        optimizer_d.step()\n",
    "        \n",
    "        # Train generator\n",
    "        noise = torch.randn(batch_size, 100)\n",
    "        fake_data = generator(noise)\n",
    "        outputs = discriminator(fake_data)\n",
    "        g_loss = criterion(outputs, real_labels)\n",
    "        \n",
    "        optimizer_g.zero_grad()\n",
    "        g_loss.backward()\n",
    "        optimizer_g.step()\n",
    "        \n",
    "    print(f'Epoch [{epoch+1}/{num_epochs}], d_loss: {d_loss.item():.4f}, g_loss: {g_loss.item():.4f}')"
   ]
  },
  {
   "cell_type": "code",
   "execution_count": 30,
   "metadata": {},
   "outputs": [
    {
     "name": "stdout",
     "output_type": "stream",
     "text": [
      "Synthetic data shape: torch.Size([1000, 30])\n",
      "Total number of records: 1455\n",
      "Total number of records: 1455\n"
     ]
    }
   ],
   "source": [
    "# Generate synthetic data\n",
    "def generate_synthetic_data(generator, num_samples):\n",
    "    noise = torch.randn(num_samples, 100)\n",
    "    synthetic_data = generator(noise)\n",
    "    return synthetic_data\n",
    "\n",
    "# Generate 1000 synthetic samples\n",
    "num_synthetic_samples = 1000\n",
    "synthetic_data = generate_synthetic_data(generator, num_synthetic_samples)\n",
    "print(f'Synthetic data shape: {synthetic_data.size()}')\n",
    "# Combine synthetic data with real data\n",
    "combined_X_train = torch.cat((X_train_tensor, synthetic_data), 0)\n",
    "combined_y_train = torch.cat((y_train_tensor, torch.ones(num_synthetic_samples, 1)), 0)\n",
    "\n",
    "# Print the number of total records\n",
    "print(f'Total number of records: {combined_X_train.size(0)}')\n",
    "print(f'Total number of records: {combined_y_train.size(0)}')\n"
   ]
  },
  {
   "cell_type": "code",
   "execution_count": 9,
   "metadata": {},
   "outputs": [
    {
     "name": "stdout",
     "output_type": "stream",
     "text": [
      "Epoch [1/50], Loss: 0.0006\n",
      "Epoch [2/50], Loss: 0.0006\n",
      "Epoch [3/50], Loss: 0.0005\n",
      "Epoch [4/50], Loss: 0.0004\n",
      "Epoch [5/50], Loss: 0.0003\n",
      "Epoch [6/50], Loss: 0.0003\n",
      "Epoch [7/50], Loss: 0.0002\n",
      "Epoch [8/50], Loss: 0.0002\n",
      "Epoch [9/50], Loss: 0.0002\n",
      "Epoch [10/50], Loss: 0.0001\n",
      "Epoch [11/50], Loss: 0.0001\n",
      "Epoch [12/50], Loss: 0.0000\n",
      "Epoch [13/50], Loss: 0.0000\n",
      "Epoch [14/50], Loss: 0.0000\n",
      "Epoch [15/50], Loss: 0.0000\n",
      "Epoch [16/50], Loss: 0.0000\n",
      "Epoch [17/50], Loss: 0.0000\n",
      "Epoch [18/50], Loss: 0.0000\n",
      "Epoch [19/50], Loss: 0.0000\n",
      "Epoch [20/50], Loss: 0.0000\n",
      "Epoch [21/50], Loss: 0.0000\n",
      "Epoch [22/50], Loss: 0.0000\n",
      "Epoch [23/50], Loss: 0.0000\n",
      "Epoch [24/50], Loss: 0.0000\n",
      "Epoch [25/50], Loss: 0.0000\n",
      "Epoch [26/50], Loss: 0.0000\n",
      "Epoch [27/50], Loss: 0.0000\n",
      "Epoch [28/50], Loss: 0.0000\n",
      "Epoch [29/50], Loss: 0.0000\n",
      "Epoch [30/50], Loss: 0.0000\n",
      "Epoch [31/50], Loss: 0.0000\n",
      "Epoch [32/50], Loss: 0.0000\n",
      "Epoch [33/50], Loss: 0.0000\n",
      "Epoch [34/50], Loss: 0.0000\n",
      "Epoch [35/50], Loss: 0.0000\n",
      "Epoch [36/50], Loss: 0.0000\n",
      "Epoch [37/50], Loss: 0.0000\n",
      "Epoch [38/50], Loss: 0.0000\n",
      "Epoch [39/50], Loss: 0.0000\n",
      "Epoch [40/50], Loss: 0.0000\n",
      "Epoch [41/50], Loss: 0.0000\n",
      "Epoch [42/50], Loss: 0.0000\n",
      "Epoch [43/50], Loss: 0.0000\n",
      "Epoch [44/50], Loss: 0.0000\n",
      "Epoch [45/50], Loss: 0.0000\n",
      "Epoch [46/50], Loss: 0.0000\n",
      "Epoch [47/50], Loss: 0.0000\n",
      "Epoch [48/50], Loss: 0.0000\n",
      "Epoch [49/50], Loss: 0.0000\n",
      "Epoch [50/50], Loss: 0.0000\n"
     ]
    }
   ],
   "source": [
    "# Define a simple classifier\n",
    "class SimpleClassifier(nn.Module):\n",
    "    def __init__(self, input_dim):\n",
    "        super(SimpleClassifier, self).__init__()\n",
    "        self.main = nn.Sequential(\n",
    "            nn.Linear(input_dim, 128),\n",
    "            nn.ReLU(True),\n",
    "            nn.Linear(128, 64),\n",
    "            nn.ReLU(True),\n",
    "            nn.Linear(64, 1),\n",
    "            nn.Sigmoid()\n",
    "        )\n",
    "\n",
    "    def forward(self, x):\n",
    "        return self.main(x)\n",
    "\n",
    "classifier = SimpleClassifier(input_dim=input_dim)\n",
    "criterion = nn.BCELoss()\n",
    "optimizer = optim.Adam(classifier.parameters(), lr=0.001)\n",
    "\n",
    "# Training loop for the classifier\n",
    "num_epochs = 50\n",
    "for epoch in range(num_epochs):\n",
    "    for i in range(0, combined_X_train.size(0), batch_size):\n",
    "        inputs = combined_X_train[i:i+batch_size]\n",
    "        labels = combined_y_train[i:i+batch_size]\n",
    "        \n",
    "        outputs = classifier(inputs)\n",
    "        loss = criterion(outputs, labels)\n",
    "        \n",
    "        optimizer.zero_grad()\n",
    "        loss.backward(retain_graph=True)\n",
    "        optimizer.step()\n",
    "        \n",
    "    print(f'Epoch [{epoch+1}/{num_epochs}], Loss: {loss.item():.4f}')"
   ]
  },
  {
   "cell_type": "markdown",
   "metadata": {},
   "source": [
    "Testing models"
   ]
  },
  {
   "cell_type": "code",
   "execution_count": 10,
   "metadata": {},
   "outputs": [
    {
     "name": "stdout",
     "output_type": "stream",
     "text": [
      "Accuracy of the classifier on the test set: 96.49%\n"
     ]
    }
   ],
   "source": [
    "# Evaluate the classifier\n",
    "classifier.eval()\n",
    "with torch.no_grad():\n",
    "    outputs = classifier(X_test_tensor)\n",
    "    predicted = (outputs > 0.5).float()\n",
    "    accuracy = (predicted == y_test_tensor).float().mean()\n",
    "    print(f'Accuracy of the classifier on the test set: {accuracy.item() * 100:.2f}%')"
   ]
  },
  {
   "cell_type": "code",
   "execution_count": 32,
   "metadata": {},
   "outputs": [],
   "source": [
    "# Convert tensors to numpy arrays\n",
    "combined_X_train_np = combined_X_train.detach().numpy()\n",
    "combined_y_train_np = combined_y_train.detach().numpy()\n",
    "\n",
    "# Create a DataFrame\n",
    "combined_df = pd.DataFrame(combined_X_train_np, columns=data.feature_names)\n",
    "combined_df['target'] = combined_y_train_np\n",
    "\n",
    "# Write the DataFrame to a CSV file\n",
    "combined_df.to_csv('combined_data.csv', index=False)"
   ]
  },
  {
   "cell_type": "code",
   "execution_count": null,
   "metadata": {},
   "outputs": [],
   "source": []
  }
 ],
 "metadata": {
  "kernelspec": {
   "display_name": ".venv",
   "language": "python",
   "name": "python3"
  },
  "language_info": {
   "codemirror_mode": {
    "name": "ipython",
    "version": 3
   },
   "file_extension": ".py",
   "mimetype": "text/x-python",
   "name": "python",
   "nbconvert_exporter": "python",
   "pygments_lexer": "ipython3",
   "version": "3.11.8"
  }
 },
 "nbformat": 4,
 "nbformat_minor": 2
}
